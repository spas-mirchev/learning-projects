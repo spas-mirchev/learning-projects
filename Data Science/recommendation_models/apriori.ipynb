{
 "cells": [
  {
   "cell_type": "markdown",
   "metadata": {},
   "source": [
    "# Apriori algorithm\n",
    "\n",
    "The Apriori algorithm is an algorithm for finding association rules and performing association analysis. \n",
    "\n",
    "The algorithm has the following metrics:\n",
    "\n",
    "1. Support\n",
    "\n",
    "   Indicates the rate at which a relationship is repeated across all purchases. In our case, those map to which artists you have listened to.\n",
    "\n",
    "2. Confidence\n",
    "\n",
    "    Indicates the probability that customers who buy product X will buy product Y. In our case, this is the probability that a user who listens to artist X will listen to artist Y.\n",
    "\n",
    "3. Lift\n",
    "   \n",
    "   The probability of purchasing one product, given that you have purchased another.\n",
    "\n",
    "\n",
    "**Metrics formulas**\n",
    "\n",
    "![Apriori algorithm metrics formulas](data/apriory.jpeg?raw=true \"Apriori algorithm metrics formulas\")"
   ]
  },
  {
   "cell_type": "code",
   "execution_count": 1,
   "metadata": {},
   "outputs": [],
   "source": [
    "from collections import defaultdict\n",
    "import pandas as pd"
   ]
  },
  {
   "cell_type": "code",
   "execution_count": 2,
   "metadata": {},
   "outputs": [],
   "source": [
    "THRESHOLD = 180  # occurance that makes an itemset \"frequent\""
   ]
  },
  {
   "cell_type": "code",
   "execution_count": 3,
   "metadata": {},
   "outputs": [],
   "source": [
    "item_counts = defaultdict(int)\n",
    "pair_counts = defaultdict(int)\n",
    "triple_counts = defaultdict(int)"
   ]
  },
  {
   "cell_type": "code",
   "execution_count": 4,
   "metadata": {},
   "outputs": [],
   "source": [
    "# read in data\n",
    "\n",
    "\n",
    "\n",
    "df = pd.read_csv(('data/lastfm.csv'))\n",
    "lastfm = df[['user', 'artist', 'country']]"
   ]
  },
  {
   "cell_type": "code",
   "execution_count": 9,
   "metadata": {},
   "outputs": [],
   "source": [
    "records = {}\n",
    "for i in lastfm['user'].unique():\n",
    "    records[i] = list(lastfm[lastfm['user'] == i]['artist'].values)\n",
    "    #records.append(list(lastfm[lastfm['user'] == i]['artist'].values))"
   ]
  },
  {
   "cell_type": "code",
   "execution_count": 10,
   "metadata": {},
   "outputs": [],
   "source": [
    "def normalize_group(*args):\n",
    "    return str(sorted(args))"
   ]
  },
  {
   "cell_type": "code",
   "execution_count": 11,
   "metadata": {},
   "outputs": [],
   "source": [
    "def generate_pairs(*args):\n",
    "    pairs = []\n",
    "    for idx_1 in range(len(args)):\n",
    "        for idx_2 in range(idx_1 + 1, len(args)):\n",
    "            pairs.append(normalize_group(args[idx_1], args[idx_2]))\n",
    "    return pairs"
   ]
  },
  {
   "cell_type": "code",
   "execution_count": 12,
   "metadata": {},
   "outputs": [],
   "source": [
    "# first pass\n",
    "# find candidate items\n",
    "for artists in records.values():\n",
    "    for item in artists:\n",
    "        item_counts[item] += 1\n",
    "\n",
    "# filter for frequent items\n",
    "frequent_artists = set()\n",
    "for key in item_counts:\n",
    "    if item_counts[key] > THRESHOLD:\n",
    "        frequent_artists.add(key)"
   ]
  },
  {
   "cell_type": "code",
   "execution_count": 13,
   "metadata": {},
   "outputs": [],
   "source": [
    "# second pass ----------------------------------------\n",
    "# get counts of candidate pairs\n",
    "for artists in records.values():\n",
    "    for idx_1 in range(len(artists)-1):\n",
    "        if artists[idx_1] not in frequent_artists:\n",
    "            continue\n",
    "        for idx_2 in range(idx_1 + 1, len(artists)):\n",
    "            if artists[idx_2] not in frequent_artists:\n",
    "                continue\n",
    "            # [a, b] is the same as [b, a] with this normalization\n",
    "            pair = normalize_group(artists[idx_1], artists[idx_2])\n",
    "            pair_counts[pair] += 1\n",
    "\n",
    "# get frequent pairs\n",
    "frequent_pairs = set()\n",
    "for key in pair_counts:\n",
    "    if pair_counts[key] >= THRESHOLD:\n",
    "        frequent_pairs.add(key)"
   ]
  },
  {
   "cell_type": "code",
   "execution_count": 14,
   "metadata": {},
   "outputs": [],
   "source": [
    "# third pass -------------------------------------\n",
    "# find candidate triples\n",
    "for artists in records.values():\n",
    "    for idx_1 in range(len(artists)-2):\n",
    "        if artists[idx_1] not in frequent_artists:\n",
    "            continue\n",
    "        for idx_2 in range(idx_1 + 1, len(artists) - 1):\n",
    "            if artists[idx_2] not in frequent_artists:\n",
    "                continue\n",
    "            first_pair = normalize_group(artists[idx_1], artists[idx_2])\n",
    "            if first_pair not in frequent_pairs:\n",
    "                continue\n",
    "            for idx_3 in range(idx_2 + 1, len(artists)):\n",
    "                if artists[idx_3] not in frequent_artists:\n",
    "                    continue\n",
    "                # now check that all pairs are frequent\n",
    "                pairs = generate_pairs(\n",
    "                    artists[idx_1], artists[idx_2], artists[idx_3])\n",
    "                if any(pair not in frequent_pairs for pair in pairs):\n",
    "                    continue\n",
    "                triple = normalize_group(\n",
    "                    artists[idx_1], artists[idx_2], artists[idx_3])\n",
    "                triple_counts[triple] += 1"
   ]
  },
  {
   "cell_type": "code",
   "execution_count": 15,
   "metadata": {},
   "outputs": [],
   "source": [
    "# get frequent triples\n",
    "frequent_triples = set()\n",
    "for key in triple_counts:\n",
    "    if triple_counts[key] > THRESHOLD:\n",
    "        frequent_triples.add(key)"
   ]
  },
  {
   "cell_type": "code",
   "execution_count": 16,
   "metadata": {},
   "outputs": [
    {
     "name": "stdout",
     "output_type": "stream",
     "text": [
      "['coldplay', 'radiohead', 'sigur rós'] : 181\n",
      "['coldplay', 'muse', 'red hot chili peppers'] : 181\n",
      "['coldplay', 'muse', 'the beatles'] : 184\n",
      "['radiohead', 'the beatles', 'the white stripes'] : 184\n",
      "['arctic monkeys', 'coldplay', 'the killers'] : 185\n",
      "['radiohead', 'red hot chili peppers', 'the beatles'] : 187\n",
      "['death cab for cutie', 'radiohead', 'the beatles'] : 187\n",
      "['coldplay', 'the beatles', 'the killers'] : 188\n",
      "['coldplay', 'oasis', 'radiohead'] : 191\n",
      "['muse', 'radiohead', 'the killers'] : 192\n",
      "['beck', 'radiohead', 'the beatles'] : 195\n",
      "['led zeppelin', 'radiohead', 'the beatles'] : 196\n",
      "['arctic monkeys', 'coldplay', 'radiohead'] : 196\n",
      "['coldplay', 'red hot chili peppers', 'the beatles'] : 201\n",
      "['muse', 'placebo', 'radiohead'] : 205\n",
      "['muse', 'radiohead', 'the beatles'] : 207\n",
      "['bob dylan', 'radiohead', 'the beatles'] : 208\n",
      "['david bowie', 'radiohead', 'the beatles'] : 209\n",
      "['coldplay', 'death cab for cutie', 'radiohead'] : 212\n",
      "['coldplay', 'radiohead', 'red hot chili peppers'] : 222\n",
      "['coldplay', 'radiohead', 'the killers'] : 226\n",
      "['coldplay', 'muse', 'the killers'] : 227\n",
      "['led zeppelin', 'pink floyd', 'the beatles'] : 234\n",
      "['pink floyd', 'radiohead', 'the beatles'] : 241\n",
      "['coldplay', 'muse', 'radiohead'] : 275\n",
      "['coldplay', 'radiohead', 'the beatles'] : 293\n"
     ]
    }
   ],
   "source": [
    "# print(frequent_triples)\n",
    "# view our results -----------------------------------\n",
    "triple_counts = {k: v for k, v in triple_counts.items() if v > THRESHOLD}\n",
    "sorted_triples = sorted(triple_counts.items(), key=lambda elem: elem[1])\n",
    "# print(triple_counts)\n",
    "# print(sorted_triples)\n",
    "for entry in sorted_triples:\n",
    "    print(f'{entry[0]} : {entry[1]}')"
   ]
  }
 ],
 "metadata": {
  "kernelspec": {
   "display_name": "Python 3.9.7 64-bit ('3.9.7')",
   "language": "python",
   "name": "python3"
  },
  "language_info": {
   "codemirror_mode": {
    "name": "ipython",
    "version": 3
   },
   "file_extension": ".py",
   "mimetype": "text/x-python",
   "name": "python",
   "nbconvert_exporter": "python",
   "pygments_lexer": "ipython3",
   "version": "3.9.7"
  },
  "orig_nbformat": 4,
  "vscode": {
   "interpreter": {
    "hash": "5f658235f33a66d20b962167037a25a33691ada8426c14e9defd38a29d6fbf2b"
   }
  }
 },
 "nbformat": 4,
 "nbformat_minor": 2
}
