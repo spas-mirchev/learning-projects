{
 "cells": [
  {
   "cell_type": "markdown",
   "metadata": {},
   "source": [
    "## Item to Item recommendation algorithm\n",
    "\n",
    "This recommendation algorithm uses an item-to-item approach to find:\n",
    "\n",
    "1. Artists that are similar to other artists\n",
    "2. If a user has listened to a set of artists, which other artists they would likely enjoy listening to. \n",
    "\n",
    "\n",
    "### Data\n",
    "\n",
    "1. Artists - 17.5K records\n",
    "2. Users - 1892 records\n",
    "3. Interactions - how many times a user has listened to an Artist - 92K records\n",
    "\n",
    "\n",
    "### Approach\n",
    "Matrix manipulation and cosine distance between item and user vectors.\n",
    "\n",
    "#### Credits\n",
    "\n",
    "* [Random Walks in Recommender Systems](https://nms.kcl.ac.uk/colin.cooper/papers/recommender-rw.pdf)\n",
    "\n"
   ]
  },
  {
   "cell_type": "code",
   "execution_count": 1,
   "metadata": {},
   "outputs": [],
   "source": [
    "import pandas as pd\n",
    "import numpy as np\n",
    "from scipy import sparse\n",
    "from scipy.sparse import csr_matrix\n",
    "from sklearn.preprocessing import normalize"
   ]
  },
  {
   "cell_type": "code",
   "execution_count": 2,
   "metadata": {},
   "outputs": [],
   "source": [
    "interactions_df = pd.read_csv(\n",
    "    \"data/lastfm_user_scrobbles.csv\")\n",
    "titles_df = pd.read_csv(\n",
    "    \"data/lastfm_artist_list.csv\")"
   ]
  },
  {
   "cell_type": "code",
   "execution_count": 4,
   "metadata": {},
   "outputs": [],
   "source": [
    "# artist names\n",
    "titles_df.index = titles_df[\"artist_id\"]\n",
    "titles_dict = titles_df[\"artist_name\"].to_dict()"
   ]
  },
  {
   "cell_type": "code",
   "execution_count": 4,
   "metadata": {},
   "outputs": [],
   "source": [
    "\n",
    "rows, r_pos = np.unique(interactions_df.values[:, 0], return_inverse=True)\n",
    "cols, c_pos = np.unique(interactions_df.values[:, 1], return_inverse=True)"
   ]
  },
  {
   "cell_type": "code",
   "execution_count": 5,
   "metadata": {},
   "outputs": [],
   "source": [
    "# Sparse matrix Users Artists\n",
    "interactions_sparse = sparse.csr_matrix(\n",
    "    (interactions_df.values[:, 2], (r_pos, c_pos)))\n"
   ]
  },
  {
   "cell_type": "code",
   "execution_count": 6,
   "metadata": {},
   "outputs": [],
   "source": [
    "# Normalize\n",
    "Pui = normalize(interactions_sparse, norm='l2', axis=0)\n"
   ]
  },
  {
   "cell_type": "code",
   "execution_count": 8,
   "metadata": {},
   "outputs": [],
   "source": [
    "# Simple cosine similarity\n",
    "sim = Pui.T * Pui"
   ]
  },
  {
   "cell_type": "code",
   "execution_count": 9,
   "metadata": {},
   "outputs": [
    {
     "data": {
      "text/plain": [
       "['Anthrax',\n",
       " 'Oceano',\n",
       " 'Kreator',\n",
       " 'Dysphoria',\n",
       " 'Sodom',\n",
       " 'Exodus',\n",
       " 'The Acacia Strain',\n",
       " 'Ion Dissonance',\n",
       " 'Паровоз На Резиновом Ходу',\n",
       " 'La Vida Cuesta Libertades',\n",
       " 'Silent Decay',\n",
       " 'Smaxone',\n",
       " 'Фактор Страха',\n",
       " 'Grade 8',\n",
       " 'Немоляев-Селезнев',\n",
       " 'Skorbut',\n",
       " 'The Last Of Lucy',\n",
       " 'Hatebreed',\n",
       " 'Pro-Pain',\n",
       " 'Slayer']"
      ]
     },
     "execution_count": 9,
     "metadata": {},
     "output_type": "execute_result"
    }
   ],
   "source": [
    "# We can choose the artist and find some similar artists, 20 in this case\n",
    "sim_artists = [titles_dict[i+1]\n",
    "               for i in sim[13303].toarray().argsort()[0][-20:]]\n",
    "sim_artists"
   ]
  },
  {
   "cell_type": "code",
   "execution_count": 10,
   "metadata": {},
   "outputs": [],
   "source": [
    "# We can use matrix multiplication to find \n",
    "fit = Pui * Pui.T * Pui"
   ]
  },
  {
   "cell_type": "code",
   "execution_count": 11,
   "metadata": {},
   "outputs": [],
   "source": [
    "# User favourite artists, from the file \n",
    "initial_set = set([titles_dict[i+1]\n",
    "                  for i in np.nonzero(interactions_sparse[2])[1].tolist()])"
   ]
  },
  {
   "cell_type": "code",
   "execution_count": 14,
   "metadata": {},
   "outputs": [],
   "source": [
    "predicted_set = set([titles_dict[i+1]\n",
    "                     for i in fit[2].toarray().argsort()[0][-70:].tolist()])"
   ]
  },
  {
   "cell_type": "code",
   "execution_count": 17,
   "metadata": {},
   "outputs": [
    {
     "data": {
      "text/plain": [
       "{'A.R. Rahman',\n",
       " 'Ai',\n",
       " 'Alive Inside',\n",
       " 'Armin Van Buuren',\n",
       " 'Bedford',\n",
       " 'Big Dismal',\n",
       " 'Calexico',\n",
       " 'Closure',\n",
       " 'Css',\n",
       " 'Dil Se',\n",
       " 'Doping Panda',\n",
       " 'Doubledrive',\n",
       " 'Fighting Instinct',\n",
       " 'Globe',\n",
       " 'Green River Ordinance',\n",
       " 'Honey Is Cool',\n",
       " 'K.C. And The Sunshine',\n",
       " 'Kco',\n",
       " 'Love Psychedelico',\n",
       " 'Old Man Shattered',\n",
       " 'Piano Magic',\n",
       " 'Raised By Swans',\n",
       " 'Ravex',\n",
       " 'Salyu',\n",
       " 'Sega',\n",
       " 'Silvergun',\n",
       " 'Sneaky Sound System',\n",
       " 'The Music',\n",
       " 'Tiromancino',\n",
       " 'W & Whale',\n",
       " 'Wire Daisies',\n",
       " 'Wise',\n",
       " 'Ya-Kyim',\n",
       " '青山テルマ'}"
      ]
     },
     "execution_count": 17,
     "metadata": {},
     "output_type": "execute_result"
    }
   ],
   "source": [
    "predicted_set - initial_set"
   ]
  }
 ],
 "metadata": {
  "kernelspec": {
   "display_name": "Python 3.9.7 64-bit ('3.9.7')",
   "language": "python",
   "name": "python3"
  },
  "language_info": {
   "codemirror_mode": {
    "name": "ipython",
    "version": 3
   },
   "file_extension": ".py",
   "mimetype": "text/x-python",
   "name": "python",
   "nbconvert_exporter": "python",
   "pygments_lexer": "ipython3",
   "version": "3.9.7"
  },
  "orig_nbformat": 4,
  "vscode": {
   "interpreter": {
    "hash": "5f658235f33a66d20b962167037a25a33691ada8426c14e9defd38a29d6fbf2b"
   }
  }
 },
 "nbformat": 4,
 "nbformat_minor": 2
}
