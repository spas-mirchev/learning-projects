{
 "cells": [
  {
   "cell_type": "code",
   "execution_count": 1,
   "metadata": {},
   "outputs": [],
   "source": [
    "import torch\n",
    "import numpy as np\n",
    "from matplotlib import pyplot as plt"
   ]
  },
  {
   "cell_type": "code",
   "execution_count": 2,
   "metadata": {},
   "outputs": [
    {
     "data": {
      "text/plain": [
       "tensor([-5., -4., -3., -2., -1.,  0.,  1.,  2.,  3.,  4.])"
      ]
     },
     "execution_count": 2,
     "metadata": {},
     "output_type": "execute_result"
    }
   ],
   "source": [
    "x = torch.tensor(range(-5,5)).float()\n",
    "x"
   ]
  },
  {
   "cell_type": "code",
   "execution_count": 3,
   "metadata": {},
   "outputs": [
    {
     "data": {
      "text/plain": [
       "tensor([-11.,  -8.,  -5.,  -2.,   1.,   4.,   7.,  10.,  13.,  16.])"
      ]
     },
     "execution_count": 3,
     "metadata": {},
     "output_type": "execute_result"
    }
   ],
   "source": [
    "w_gt = 3\n",
    "b_gt = 4\n",
    "y = w_gt*x + b_gt\n",
    "y"
   ]
  },
  {
   "cell_type": "code",
   "execution_count": 4,
   "metadata": {},
   "outputs": [
    {
     "name": "stdout",
     "output_type": "stream",
     "text": [
      "w: tensor([0.1365], requires_grad=True)\n",
      "b: tensor([-0.7934], requires_grad=True)\n"
     ]
    }
   ],
   "source": [
    "w = torch.randn(1, requires_grad=True)\n",
    "b = torch.randn(1, requires_grad=True)\n",
    "print(f'w: {w}')\n",
    "print(f'b: {b}')"
   ]
  },
  {
   "cell_type": "code",
   "execution_count": 5,
   "metadata": {},
   "outputs": [],
   "source": [
    "learning_rate = 0.1"
   ]
  },
  {
   "cell_type": "code",
   "execution_count": 6,
   "metadata": {},
   "outputs": [],
   "source": [
    "def trainManual(w, b, lr, iternum):\n",
    "    for i in range(iternum):\n",
    "        y_hat = w*x + b\n",
    "\n",
    "        error = torch.sum(torch.pow(y-y_hat,2)/y.numel())\n",
    "        error.backward()   # Compute the Gradients for w and b (requires_grad=True)\n",
    "        print(w,w.grad)\n",
    "        # Update parameters\n",
    "        with torch.no_grad():   # Temporarily set all requires_grad=False\n",
    "            w -= lr * w.grad\n",
    "            b -= lr * b.grad\n",
    "            # Remember to zero the gradients!\n",
    "            # If not, the gradients will be accumulated\n",
    "            w.grad.zero_()\n",
    "            b.grad.zero_()\n",
    "        print(\"Error: {:.4f}\".format(error))"
   ]
  },
  {
   "cell_type": "code",
   "execution_count": 7,
   "metadata": {},
   "outputs": [
    {
     "name": "stdout",
     "output_type": "stream",
     "text": [
      "tensor([0.1365], requires_grad=True) tensor([-43.8868])\n",
      "Error: 78.9493\n",
      "tensor([4.5251], requires_grad=True) tensor([30.0484])\n",
      "Error: 43.0398\n",
      "tensor([1.5203], requires_grad=True) tensor([-22.0106])\n",
      "Error: 23.8451\n",
      "tensor([3.7214], requires_grad=True) tensor([14.9265])\n",
      "Error: 13.4383\n",
      "tensor([2.2287], requires_grad=True) tensor([-11.0534])\n",
      "Error: 7.7067\n",
      "tensor([3.3340], requires_grad=True) tensor([7.4028])\n",
      "Error: 4.4966\n",
      "tensor([2.5938], requires_grad=True) tensor([-5.5602])\n",
      "Error: 2.6672\n",
      "tensor([3.1498], requires_grad=True) tensor([3.6636])\n",
      "Error: 1.6063\n",
      "tensor([2.7834], requires_grad=True) tensor([-2.8029])\n",
      "Error: 0.9807\n",
      "tensor([3.0637], requires_grad=True) tensor([1.8079])\n",
      "Error: 0.6059\n"
     ]
    }
   ],
   "source": [
    "trainManual(w, b, learning_rate, 10)"
   ]
  },
  {
   "cell_type": "code",
   "execution_count": 8,
   "metadata": {},
   "outputs": [
    {
     "data": {
      "text/plain": [
       "tensor([2.8829], requires_grad=True)"
      ]
     },
     "execution_count": 8,
     "metadata": {},
     "output_type": "execute_result"
    }
   ],
   "source": [
    "w"
   ]
  },
  {
   "cell_type": "code",
   "execution_count": 9,
   "metadata": {},
   "outputs": [
    {
     "data": {
      "text/plain": [
       "tensor([-5., -4., -3., -2., -1.,  0.,  1.,  2.,  3.,  4.])"
      ]
     },
     "execution_count": 9,
     "metadata": {},
     "output_type": "execute_result"
    }
   ],
   "source": [
    "x"
   ]
  },
  {
   "cell_type": "code",
   "execution_count": 10,
   "metadata": {},
   "outputs": [
    {
     "data": {
      "text/plain": [
       "tensor([3.4266], requires_grad=True)"
      ]
     },
     "execution_count": 10,
     "metadata": {},
     "output_type": "execute_result"
    }
   ],
   "source": [
    "b"
   ]
  },
  {
   "cell_type": "code",
   "execution_count": 12,
   "metadata": {},
   "outputs": [
    {
     "name": "stdout",
     "output_type": "stream",
     "text": [
      "----- ----- ----- ----- -----\n",
      "Prediction:\n",
      "w_pred = 2.88, b_pred = 3.43\n",
      "Ground-truth:\n",
      "w_gt = 3.00, b_gt = 4.00\n"
     ]
    }
   ],
   "source": [
    "y_pred = (w*x + b)\n",
    "y_pred = y_pred.data.numpy()\n",
    "print(\"----- ----- ----- ----- -----\")\n",
    "print(\"Prediction:\")\n",
    "print(\"w_pred = {:.2f}, b_pred = {:.2f}\".format(w[0] ,b[0]))\n",
    "print(\"Ground-truth:\")\n",
    "print(\"w_gt = {:.2f}, b_gt = {:.2f}\".format(w_gt ,b_gt))"
   ]
  },
  {
   "cell_type": "code",
   "execution_count": 13,
   "metadata": {},
   "outputs": [
    {
     "data": {
      "image/png": "[encoded data removed]",
      "text/plain": [
       "<Figure size 432x288 with 1 Axes>"
      ]
     },
     "metadata": {
      "needs_background": "light"
     },
     "output_type": "display_data"
    }
   ],
   "source": [
    "plt.clf()\n",
    "plt.plot(x, y, 'go', label='True data', alpha=0.5)\n",
    "plt.plot(x, y_pred, '--', label='Predictions', alpha=0.5)\n",
    "plt.legend(loc='best')\n",
    "plt.show()"
   ]
  },
  {
   "cell_type": "code",
   "execution_count": 14,
   "metadata": {},
   "outputs": [],
   "source": [
    "from torch.utils.data import TensorDataset, DataLoader\n",
    "import torch.nn as nn"
   ]
  },
  {
   "cell_type": "code",
   "execution_count": 15,
   "metadata": {},
   "outputs": [],
   "source": [
    "class LinearRegression(torch.nn.Module): \n",
    "    def __init__(self):\n",
    "        super(LinearRegression, self).__init__() \n",
    "        self.linear = torch.nn.Linear(1, 1, bias = True) # bias is default True\n",
    "\n",
    "    def forward(self, x):\n",
    "        y_pred = self.linear(x)\n",
    "        return y_pred"
   ]
  },
  {
   "cell_type": "code",
   "execution_count": 16,
   "metadata": {},
   "outputs": [],
   "source": [
    "our_model = LinearRegression()"
   ]
  },
  {
   "cell_type": "code",
   "execution_count": 17,
   "metadata": {},
   "outputs": [],
   "source": [
    "criterion = torch.nn.MSELoss()\n",
    "optimizer = torch.optim.SGD(our_model.parameters(), lr = 0.1) "
   ]
  },
  {
   "cell_type": "code",
   "execution_count": 18,
   "metadata": {},
   "outputs": [],
   "source": [
    "def trainBuildIn(model, x, y, iter):\n",
    "    for i in range(iter):\n",
    "        # Clear gradient buffers because we don't want any gradient from previous epoch to carry forward, dont want to cummulate gradients\n",
    "        optimizer.zero_grad()\n",
    "        \n",
    "        # get output from the model, given the inputs\n",
    "        y_pred = model(x)\n",
    "\n",
    "        # get loss for the predicted output\n",
    "        loss = criterion(y_pred, y)\n",
    "        print(loss)\n",
    "        # get gradients w.r.t to parameters\n",
    "        loss.backward()\n",
    "\n",
    "        # update parameters\n",
    "        optimizer.step()\n",
    "\n",
    "        print('Iter {}, loss {}'.format(iter, loss.item()))"
   ]
  },
  {
   "cell_type": "code",
   "execution_count": 19,
   "metadata": {},
   "outputs": [
    {
     "name": "stdout",
     "output_type": "stream",
     "text": [
      "torch.Size([10]) torch.Size([10, 1])\n",
      "torch.Size([10]) torch.Size([10, 1])\n"
     ]
    }
   ],
   "source": [
    "x_train = x[:,None]\n",
    "y_train = y[:,None]\n",
    "\n",
    "print(x.shape, x_train.shape)\n",
    "print(y.shape, y_train.shape)"
   ]
  },
  {
   "cell_type": "code",
   "execution_count": 20,
   "metadata": {},
   "outputs": [
    {
     "name": "stdout",
     "output_type": "stream",
     "text": [
      "tensor(108.3725, grad_fn=<MseLossBackward0>)\n",
      "Iter 10, loss 108.37247467041016\n",
      "tensor(57.7571, grad_fn=<MseLossBackward0>)\n",
      "Iter 10, loss 57.75712966918945\n",
      "tensor(31.2105, grad_fn=<MseLossBackward0>)\n",
      "Iter 10, loss 31.21048927307129\n",
      "tensor(17.1268, grad_fn=<MseLossBackward0>)\n",
      "Iter 10, loss 17.126773834228516\n",
      "tensor(9.5555, grad_fn=<MseLossBackward0>)\n",
      "Iter 10, loss 9.555503845214844\n",
      "tensor(5.4243, grad_fn=<MseLossBackward0>)\n",
      "Iter 10, loss 5.424336910247803\n",
      "tensor(3.1334, grad_fn=<MseLossBackward0>)\n",
      "Iter 10, loss 3.1334052085876465\n",
      "tensor(1.8410, grad_fn=<MseLossBackward0>)\n",
      "Iter 10, loss 1.8410495519638062\n",
      "tensor(1.0992, grad_fn=<MseLossBackward0>)\n",
      "Iter 10, loss 1.09916353225708\n",
      "tensor(0.6659, grad_fn=<MseLossBackward0>)\n",
      "Iter 10, loss 0.6658803224563599\n"
     ]
    }
   ],
   "source": [
    "trainBuildIn(our_model, x_train, y_train, 10)"
   ]
  },
  {
   "cell_type": "code",
   "execution_count": 21,
   "metadata": {},
   "outputs": [
    {
     "name": "stdout",
     "output_type": "stream",
     "text": [
      "----- ----- ----- ----- -----\n",
      "Prediction:\n",
      "linear.weight tensor([[2.8641]])\n",
      "linear.bias tensor([3.4258])\n",
      "Ground-truth:\n",
      "w_gt = 3.00, b_gt = 4.00\n"
     ]
    }
   ],
   "source": [
    "y_pred_bi = our_model(x_train).data.numpy()\n",
    "\n",
    "print(\"----- ----- ----- ----- -----\")\n",
    "print(\"Prediction:\")\n",
    "for name, param in our_model.named_parameters():\n",
    "    if param.requires_grad:\n",
    "        print(name, param.data)\n",
    "print(\"Ground-truth:\")\n",
    "print(\"w_gt = {:.2f}, b_gt = {:.2f}\".format(w_gt ,b_gt))"
   ]
  },
  {
   "cell_type": "code",
   "execution_count": 22,
   "metadata": {},
   "outputs": [
    {
     "data": {
      "image/png": "[encoded data removed]",
      "text/plain": [
       "<Figure size 432x288 with 1 Axes>"
      ]
     },
     "metadata": {
      "needs_background": "light"
     },
     "output_type": "display_data"
    }
   ],
   "source": [
    "plt.clf()\n",
    "plt.plot(x, y, 'go', label='True data', alpha=0.5)\n",
    "plt.plot(x, y_pred_bi, '--', label='Predictions', alpha=0.5)\n",
    "plt.legend(loc='best')\n",
    "plt.show()"
   ]
  },
  {
   "cell_type": "code",
   "execution_count": 23,
   "metadata": {},
   "outputs": [
    {
     "name": "stdout",
     "output_type": "stream",
     "text": [
      "----- ----- ----- ----- -----\n",
      "Prediction:\n",
      "w_pred = 4.00, b_pred = 3.00\n",
      "Ground-truth:\n",
      "w_gt = 3.00, b_gt = 4.00\n"
     ]
    }
   ],
   "source": [
    "from sklearn.linear_model import LinearRegression\n",
    "linr = LinearRegression()\n",
    "linr.fit(x[:,None], y[:,None])\n",
    "print(\"----- ----- ----- ----- -----\")\n",
    "print(\"Prediction:\")\n",
    "print(\"w_pred = {:.2f}, b_pred = {:.2f}\".format(float(linr.intercept_), float(linr.coef_[0])))\n",
    "print(\"Ground-truth:\")\n",
    "print(\"w_gt = {:.2f}, b_gt = {:.2f}\".format(w_gt ,b_gt))"
   ]
  }
 ],
 "metadata": {
  "interpreter": {
   "hash": "5f658235f33a66d20b962167037a25a33691ada8426c14e9defd38a29d6fbf2b"
  },
  "kernelspec": {
   "display_name": "Python 3.9.7 64-bit ('3.9.7')",
   "language": "python",
   "name": "python3"
  },
  "language_info": {
   "codemirror_mode": {
    "name": "ipython",
    "version": 3
   },
   "file_extension": ".py",
   "mimetype": "text/x-python",
   "name": "python",
   "nbconvert_exporter": "python",
   "pygments_lexer": "ipython3",
   "version": "3.9.7"
  },
  "orig_nbformat": 4
 },
 "nbformat": 4,
 "nbformat_minor": 2
}
