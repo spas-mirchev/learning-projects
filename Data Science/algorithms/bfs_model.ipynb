{
 "cells": [
  {
   "cell_type": "code",
   "execution_count": 16,
   "metadata": {},
   "outputs": [],
   "source": [
    "from collections import deque"
   ]
  },
  {
   "cell_type": "code",
   "execution_count": 13,
   "metadata": {},
   "outputs": [],
   "source": [
    "graph = {'A': ['M', 'P'],\n",
    "         'M': ['A', 'N'],\n",
    "         'N': ['M', 'B'],\n",
    "         'P': ['A', 'B'],\n",
    "         'B': ['P', 'N']}"
   ]
  }
 ],
 "metadata": {
  "kernelspec": {
   "display_name": "Python 3.9.7 64-bit ('3.9.7')",
   "language": "python",
   "name": "python3"
  },
  "language_info": {
   "codemirror_mode": {
    "name": "ipython",
    "version": 3
   },
   "file_extension": ".py",
   "mimetype": "text/x-python",
   "name": "python",
   "nbconvert_exporter": "python",
   "pygments_lexer": "ipython3",
   "version": "3.9.7"
  },
  "orig_nbformat": 4,
  "vscode": {
   "interpreter": {
    "hash": "5f658235f33a66d20b962167037a25a33691ada8426c14e9defd38a29d6fbf2b"
   }
  }
 },
 "nbformat": 4,
 "nbformat_minor": 2
}
